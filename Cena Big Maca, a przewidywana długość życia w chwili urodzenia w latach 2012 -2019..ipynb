{
 "cells": [
  {
   "cell_type": "markdown",
   "metadata": {},
   "source": [
    "### Pytanie:\n",
    "- Czy istnieje korelacja pomiędzy liczbą big maców, które może kupić obywatel, a przewidywaną długośćią życia?"
   ]
  },
  {
   "cell_type": "markdown",
   "metadata": {},
   "source": [
    "#### Zaimportowanie potrzebnych bibliotek i wczytanie danych."
   ]
  },
  {
   "cell_type": "code",
   "execution_count": 1,
   "metadata": {},
   "outputs": [],
   "source": [
    "import pandas as pd\n",
    "import numpy as np\n",
    "big_mac = pd.read_csv(\"data/big-mac-adjusted-index.csv\")\n",
    "life_data = pd.read_csv(\"data/life_data.csv\")"
   ]
  },
  {
   "cell_type": "markdown",
   "metadata": {},
   "source": [
    "#### Przetwarzanie danych na temat Big Maca."
   ]
  },
  {
   "cell_type": "code",
   "execution_count": 2,
   "metadata": {},
   "outputs": [
    {
     "data": {
      "text/plain": [
       "Index(['date', 'iso_a3', 'currency_code', 'name', 'local_price', 'dollar_ex',\n",
       "       'dollar_price', 'GDP_dollar', 'adj_price', 'USD', 'EUR', 'GBP', 'JPY',\n",
       "       'CNY'],\n",
       "      dtype='object')"
      ]
     },
     "execution_count": 2,
     "metadata": {},
     "output_type": "execute_result"
    }
   ],
   "source": [
    "big_mac.columns"
   ]
  },
  {
   "cell_type": "code",
   "execution_count": 3,
   "metadata": {},
   "outputs": [],
   "source": [
    "# usunięcie niepotrzebnych kolumn\n",
    "big_mac.drop(['iso_a3','dollar_ex','adj_price','USD', 'EUR', 'GBP', 'JPY', 'CNY'], axis=1, inplace=True)"
   ]
  },
  {
   "cell_type": "code",
   "execution_count": 4,
   "metadata": {},
   "outputs": [
    {
     "data": {
      "text/plain": [
       "array(['2011-07-01T00:00:00.000000000', '2012-01-01T00:00:00.000000000',\n",
       "       '2012-07-01T00:00:00.000000000', '2013-01-01T00:00:00.000000000',\n",
       "       '2013-07-01T00:00:00.000000000', '2014-01-01T00:00:00.000000000',\n",
       "       '2014-07-01T00:00:00.000000000', '2015-01-01T00:00:00.000000000',\n",
       "       '2015-07-01T00:00:00.000000000', '2016-01-01T00:00:00.000000000',\n",
       "       '2016-07-01T00:00:00.000000000', '2017-01-01T00:00:00.000000000',\n",
       "       '2017-07-01T00:00:00.000000000', '2018-01-01T00:00:00.000000000',\n",
       "       '2018-07-01T00:00:00.000000000', '2019-01-01T00:00:00.000000000',\n",
       "       '2019-07-09T00:00:00.000000000', '2020-01-14T00:00:00.000000000'],\n",
       "      dtype='datetime64[ns]')"
      ]
     },
     "execution_count": 4,
     "metadata": {},
     "output_type": "execute_result"
    }
   ],
   "source": [
    "big_mac[\"date\"] = pd.to_datetime(big_mac['date'], format='%Y-%m-%d')\n",
    "big_mac.date.unique()"
   ]
  },
  {
   "cell_type": "code",
   "execution_count": 5,
   "metadata": {
    "scrolled": true
   },
   "outputs": [],
   "source": [
    "big_mac = big_mac[(big_mac['date']>='2012-01-01') & (big_mac['date']<='2019-07-09')]"
   ]
  },
  {
   "cell_type": "code",
   "execution_count": 6,
   "metadata": {
    "scrolled": true
   },
   "outputs": [
    {
     "data": {
      "text/html": [
       "<div>\n",
       "<style scoped>\n",
       "    .dataframe tbody tr th:only-of-type {\n",
       "        vertical-align: middle;\n",
       "    }\n",
       "\n",
       "    .dataframe tbody tr th {\n",
       "        vertical-align: top;\n",
       "    }\n",
       "\n",
       "    .dataframe thead th {\n",
       "        text-align: right;\n",
       "    }\n",
       "</style>\n",
       "<table border=\"1\" class=\"dataframe\">\n",
       "  <thead>\n",
       "    <tr style=\"text-align: right;\">\n",
       "      <th></th>\n",
       "      <th>date</th>\n",
       "      <th>currency_code</th>\n",
       "      <th>name</th>\n",
       "      <th>local_price</th>\n",
       "      <th>dollar_price</th>\n",
       "      <th>GDP_dollar</th>\n",
       "    </tr>\n",
       "  </thead>\n",
       "  <tbody>\n",
       "    <tr>\n",
       "      <td>37</td>\n",
       "      <td>2012-01-01</td>\n",
       "      <td>ARS</td>\n",
       "      <td>Argentina</td>\n",
       "      <td>20.00</td>\n",
       "      <td>4.636606</td>\n",
       "      <td>9138.177</td>\n",
       "    </tr>\n",
       "    <tr>\n",
       "      <td>38</td>\n",
       "      <td>2012-01-01</td>\n",
       "      <td>AUD</td>\n",
       "      <td>Australia</td>\n",
       "      <td>4.80</td>\n",
       "      <td>4.936560</td>\n",
       "      <td>55589.549</td>\n",
       "    </tr>\n",
       "    <tr>\n",
       "      <td>39</td>\n",
       "      <td>2012-01-01</td>\n",
       "      <td>BRL</td>\n",
       "      <td>Brazil</td>\n",
       "      <td>10.25</td>\n",
       "      <td>5.678670</td>\n",
       "      <td>10816.487</td>\n",
       "    </tr>\n",
       "    <tr>\n",
       "      <td>40</td>\n",
       "      <td>2012-01-01</td>\n",
       "      <td>GBP</td>\n",
       "      <td>Britain</td>\n",
       "      <td>2.49</td>\n",
       "      <td>3.823395</td>\n",
       "      <td>36119.846</td>\n",
       "    </tr>\n",
       "    <tr>\n",
       "      <td>41</td>\n",
       "      <td>2012-01-01</td>\n",
       "      <td>CAD</td>\n",
       "      <td>Canada</td>\n",
       "      <td>4.73</td>\n",
       "      <td>4.632940</td>\n",
       "      <td>46214.914</td>\n",
       "    </tr>\n",
       "  </tbody>\n",
       "</table>\n",
       "</div>"
      ],
      "text/plain": [
       "         date currency_code       name  local_price  dollar_price  GDP_dollar\n",
       "37 2012-01-01           ARS  Argentina        20.00      4.636606    9138.177\n",
       "38 2012-01-01           AUD  Australia         4.80      4.936560   55589.549\n",
       "39 2012-01-01           BRL     Brazil        10.25      5.678670   10816.487\n",
       "40 2012-01-01           GBP    Britain         2.49      3.823395   36119.846\n",
       "41 2012-01-01           CAD     Canada         4.73      4.632940   46214.914"
      ]
     },
     "execution_count": 6,
     "metadata": {},
     "output_type": "execute_result"
    }
   ],
   "source": [
    "big_mac.head()"
   ]
  },
  {
   "cell_type": "code",
   "execution_count": 7,
   "metadata": {
    "scrolled": true
   },
   "outputs": [
    {
     "data": {
      "text/html": [
       "<div>\n",
       "<style scoped>\n",
       "    .dataframe tbody tr th:only-of-type {\n",
       "        vertical-align: middle;\n",
       "    }\n",
       "\n",
       "    .dataframe tbody tr th {\n",
       "        vertical-align: top;\n",
       "    }\n",
       "\n",
       "    .dataframe thead th {\n",
       "        text-align: right;\n",
       "    }\n",
       "</style>\n",
       "<table border=\"1\" class=\"dataframe\">\n",
       "  <thead>\n",
       "    <tr style=\"text-align: right;\">\n",
       "      <th></th>\n",
       "      <th></th>\n",
       "      <th>local_price</th>\n",
       "      <th>dollar_price</th>\n",
       "      <th>GDP_dollar</th>\n",
       "    </tr>\n",
       "    <tr>\n",
       "      <th>name</th>\n",
       "      <th>date</th>\n",
       "      <th></th>\n",
       "      <th></th>\n",
       "      <th></th>\n",
       "    </tr>\n",
       "  </thead>\n",
       "  <tbody>\n",
       "    <tr>\n",
       "      <td rowspan=\"8\" valign=\"top\">Argentina</td>\n",
       "      <td>2012</td>\n",
       "      <td>19.5</td>\n",
       "      <td>4.398785</td>\n",
       "      <td>9138.1770</td>\n",
       "    </tr>\n",
       "    <tr>\n",
       "      <td>2013</td>\n",
       "      <td>20.0</td>\n",
       "      <td>3.848926</td>\n",
       "      <td>10959.0820</td>\n",
       "    </tr>\n",
       "    <tr>\n",
       "      <td>2014</td>\n",
       "      <td>21.0</td>\n",
       "      <td>2.802453</td>\n",
       "      <td>11270.7810</td>\n",
       "    </tr>\n",
       "    <tr>\n",
       "      <td>2015</td>\n",
       "      <td>28.0</td>\n",
       "      <td>3.158583</td>\n",
       "      <td>13790.8865</td>\n",
       "    </tr>\n",
       "    <tr>\n",
       "      <td>2016</td>\n",
       "      <td>41.5</td>\n",
       "      <td>2.868772</td>\n",
       "      <td>13162.0210</td>\n",
       "    </tr>\n",
       "    <tr>\n",
       "      <td>2017</td>\n",
       "      <td>62.5</td>\n",
       "      <td>3.796962</td>\n",
       "      <td>13045.8340</td>\n",
       "    </tr>\n",
       "    <tr>\n",
       "      <td>2018</td>\n",
       "      <td>75.0</td>\n",
       "      <td>3.332768</td>\n",
       "      <td>13480.2305</td>\n",
       "    </tr>\n",
       "    <tr>\n",
       "      <td>2019</td>\n",
       "      <td>97.5</td>\n",
       "      <td>2.436454</td>\n",
       "      <td>14525.4650</td>\n",
       "    </tr>\n",
       "  </tbody>\n",
       "</table>\n",
       "</div>"
      ],
      "text/plain": [
       "                local_price  dollar_price  GDP_dollar\n",
       "name      date                                       \n",
       "Argentina 2012         19.5      4.398785   9138.1770\n",
       "          2013         20.0      3.848926  10959.0820\n",
       "          2014         21.0      2.802453  11270.7810\n",
       "          2015         28.0      3.158583  13790.8865\n",
       "          2016         41.5      2.868772  13162.0210\n",
       "          2017         62.5      3.796962  13045.8340\n",
       "          2018         75.0      3.332768  13480.2305\n",
       "          2019         97.5      2.436454  14525.4650"
      ]
     },
     "execution_count": 7,
     "metadata": {},
     "output_type": "execute_result"
    }
   ],
   "source": [
    "# pogrupowanie danych według nazwy oraz roku \n",
    "big_mac = big_mac.groupby([big_mac['name'], big_mac['date'].dt.year]).mean()\n",
    "big_mac.head(8)"
   ]
  },
  {
   "cell_type": "markdown",
   "metadata": {},
   "source": [
    "#### Przetwarzanie danych dotyczących przewidywanej długości życia."
   ]
  },
  {
   "cell_type": "code",
   "execution_count": 8,
   "metadata": {
    "scrolled": false
   },
   "outputs": [
    {
     "data": {
      "text/plain": [
       "Index(['Country Name', 'Country Code', 'Indicator Name', 'Indicator Code',\n",
       "       '1960', '1961', '1962', '1963', '1964', '1965', '1966', '1967', '1968',\n",
       "       '1969', '1970', '1971', '1972', '1973', '1974', '1975', '1976', '1977',\n",
       "       '1978', '1979', '1980', '1981', '1982', '1983', '1984', '1985', '1986',\n",
       "       '1987', '1988', '1989', '1990', '1991', '1992', '1993', '1994', '1995',\n",
       "       '1996', '1997', '1998', '1999', '2000', '2001', '2002', '2003', '2004',\n",
       "       '2005', '2006', '2007', '2008', '2009', '2010', '2011', '2012', '2013',\n",
       "       '2014', '2015', '2016', '2017', '2018', '2019'],\n",
       "      dtype='object')"
      ]
     },
     "execution_count": 8,
     "metadata": {},
     "output_type": "execute_result"
    }
   ],
   "source": [
    "life_data.columns"
   ]
  },
  {
   "cell_type": "code",
   "execution_count": 9,
   "metadata": {
    "scrolled": true
   },
   "outputs": [
    {
     "data": {
      "text/html": [
       "<div>\n",
       "<style scoped>\n",
       "    .dataframe tbody tr th:only-of-type {\n",
       "        vertical-align: middle;\n",
       "    }\n",
       "\n",
       "    .dataframe tbody tr th {\n",
       "        vertical-align: top;\n",
       "    }\n",
       "\n",
       "    .dataframe thead th {\n",
       "        text-align: right;\n",
       "    }\n",
       "</style>\n",
       "<table border=\"1\" class=\"dataframe\">\n",
       "  <thead>\n",
       "    <tr style=\"text-align: right;\">\n",
       "      <th></th>\n",
       "      <th>Country Name</th>\n",
       "      <th>Country Code</th>\n",
       "      <th>Indicator Name</th>\n",
       "      <th>Indicator Code</th>\n",
       "      <th>1960</th>\n",
       "      <th>1961</th>\n",
       "      <th>1962</th>\n",
       "      <th>1963</th>\n",
       "      <th>1964</th>\n",
       "      <th>1965</th>\n",
       "      <th>...</th>\n",
       "      <th>2010</th>\n",
       "      <th>2011</th>\n",
       "      <th>2012</th>\n",
       "      <th>2013</th>\n",
       "      <th>2014</th>\n",
       "      <th>2015</th>\n",
       "      <th>2016</th>\n",
       "      <th>2017</th>\n",
       "      <th>2018</th>\n",
       "      <th>2019</th>\n",
       "    </tr>\n",
       "  </thead>\n",
       "  <tbody>\n",
       "    <tr>\n",
       "      <td>172</td>\n",
       "      <td>Nigeria</td>\n",
       "      <td>NGA</td>\n",
       "      <td>Life expectancy at birth, total (years)</td>\n",
       "      <td>SP.DYN.LE00.IN</td>\n",
       "      <td>36.976000</td>\n",
       "      <td>37.431000</td>\n",
       "      <td>37.871000</td>\n",
       "      <td>38.291000</td>\n",
       "      <td>38.691000</td>\n",
       "      <td>39.072000</td>\n",
       "      <td>...</td>\n",
       "      <td>50.896000</td>\n",
       "      <td>51.346000</td>\n",
       "      <td>51.786000</td>\n",
       "      <td>52.228000</td>\n",
       "      <td>52.672000</td>\n",
       "      <td>53.112000</td>\n",
       "      <td>53.541000</td>\n",
       "      <td>53.950000</td>\n",
       "      <td>NaN</td>\n",
       "      <td>NaN</td>\n",
       "    </tr>\n",
       "    <tr>\n",
       "      <td>171</td>\n",
       "      <td>Niger</td>\n",
       "      <td>NER</td>\n",
       "      <td>Life expectancy at birth, total (years)</td>\n",
       "      <td>SP.DYN.LE00.IN</td>\n",
       "      <td>35.053000</td>\n",
       "      <td>35.141000</td>\n",
       "      <td>35.223000</td>\n",
       "      <td>35.298000</td>\n",
       "      <td>35.368000</td>\n",
       "      <td>35.435000</td>\n",
       "      <td>...</td>\n",
       "      <td>57.333000</td>\n",
       "      <td>58.081000</td>\n",
       "      <td>58.790000</td>\n",
       "      <td>59.455000</td>\n",
       "      <td>60.070000</td>\n",
       "      <td>60.631000</td>\n",
       "      <td>61.137000</td>\n",
       "      <td>61.599000</td>\n",
       "      <td>NaN</td>\n",
       "      <td>NaN</td>\n",
       "    </tr>\n",
       "    <tr>\n",
       "      <td>15</td>\n",
       "      <td>Belgium</td>\n",
       "      <td>BEL</td>\n",
       "      <td>Life expectancy at birth, total (years)</td>\n",
       "      <td>SP.DYN.LE00.IN</td>\n",
       "      <td>69.701951</td>\n",
       "      <td>70.520976</td>\n",
       "      <td>70.219512</td>\n",
       "      <td>70.051463</td>\n",
       "      <td>70.755122</td>\n",
       "      <td>70.625366</td>\n",
       "      <td>...</td>\n",
       "      <td>80.182927</td>\n",
       "      <td>80.585366</td>\n",
       "      <td>80.385366</td>\n",
       "      <td>80.587805</td>\n",
       "      <td>81.287805</td>\n",
       "      <td>80.992683</td>\n",
       "      <td>81.439024</td>\n",
       "      <td>81.439024</td>\n",
       "      <td>NaN</td>\n",
       "      <td>NaN</td>\n",
       "    </tr>\n",
       "  </tbody>\n",
       "</table>\n",
       "<p>3 rows × 64 columns</p>\n",
       "</div>"
      ],
      "text/plain": [
       "    Country Name Country Code                           Indicator Name  \\\n",
       "172      Nigeria          NGA  Life expectancy at birth, total (years)   \n",
       "171        Niger          NER  Life expectancy at birth, total (years)   \n",
       "15       Belgium          BEL  Life expectancy at birth, total (years)   \n",
       "\n",
       "     Indicator Code       1960       1961       1962       1963       1964  \\\n",
       "172  SP.DYN.LE00.IN  36.976000  37.431000  37.871000  38.291000  38.691000   \n",
       "171  SP.DYN.LE00.IN  35.053000  35.141000  35.223000  35.298000  35.368000   \n",
       "15   SP.DYN.LE00.IN  69.701951  70.520976  70.219512  70.051463  70.755122   \n",
       "\n",
       "          1965  ...       2010       2011       2012       2013       2014  \\\n",
       "172  39.072000  ...  50.896000  51.346000  51.786000  52.228000  52.672000   \n",
       "171  35.435000  ...  57.333000  58.081000  58.790000  59.455000  60.070000   \n",
       "15   70.625366  ...  80.182927  80.585366  80.385366  80.587805  81.287805   \n",
       "\n",
       "          2015       2016       2017  2018  2019  \n",
       "172  53.112000  53.541000  53.950000   NaN   NaN  \n",
       "171  60.631000  61.137000  61.599000   NaN   NaN  \n",
       "15   80.992683  81.439024  81.439024   NaN   NaN  \n",
       "\n",
       "[3 rows x 64 columns]"
      ]
     },
     "execution_count": 9,
     "metadata": {},
     "output_type": "execute_result"
    }
   ],
   "source": [
    "life_data.sample(3)"
   ]
  },
  {
   "cell_type": "markdown",
   "metadata": {},
   "source": [
    "Brakuje danych na lata 2018-2019, w zwiąku z czym nie będą uwzględnione."
   ]
  },
  {
   "cell_type": "code",
   "execution_count": 10,
   "metadata": {
    "scrolled": true
   },
   "outputs": [],
   "source": [
    "# usunięcie niepotrzebnych kolumn\n",
    "life_data.drop(['Country Code', 'Indicator Name', 'Indicator Code','2018','2019'],axis=1, inplace=True)"
   ]
  },
  {
   "cell_type": "code",
   "execution_count": 11,
   "metadata": {},
   "outputs": [
    {
     "data": {
      "text/plain": [
       "Index(['Country Name', '1960', '1961', '1962', '1963', '1964', '1965', '1966',\n",
       "       '1967', '1968', '1969', '1970', '1971', '1972', '1973', '1974', '1975',\n",
       "       '1976', '1977', '1978', '1979', '1980', '1981', '1982', '1983', '1984',\n",
       "       '1985', '1986', '1987', '1988', '1989', '1990', '1991', '1992', '1993',\n",
       "       '1994', '1995', '1996', '1997', '1998', '1999', '2000', '2001', '2002',\n",
       "       '2003', '2004', '2005', '2006', '2007', '2008', '2009', '2010', '2011',\n",
       "       '2012', '2013', '2014', '2015', '2016', '2017'],\n",
       "      dtype='object')"
      ]
     },
     "execution_count": 11,
     "metadata": {},
     "output_type": "execute_result"
    }
   ],
   "source": [
    "life_data.columns"
   ]
  },
  {
   "cell_type": "code",
   "execution_count": 12,
   "metadata": {},
   "outputs": [],
   "source": [
    "# zamiana dat(z nazw kolumn na wiersze)\n",
    "life_data = life_data.melt(id_vars='Country Name',var_name='date',value_name='life_expectancy')\n",
    "life_data = life_data[life_data['date']>='2012']"
   ]
  },
  {
   "cell_type": "code",
   "execution_count": 13,
   "metadata": {},
   "outputs": [],
   "source": [
    "life_data['date'] = life_data.date.astype(int)\n",
    "life_data = life_data.rename(columns={'Country Name': 'name'})\n",
    "# pogrupowanie danych ze względu na nazwę oraz datę\n",
    "life_data = life_data.groupby(['name','date']).mean()"
   ]
  },
  {
   "cell_type": "markdown",
   "metadata": {},
   "source": [
    "#### Połączenie danych na temat Big Maca i długości życia."
   ]
  },
  {
   "cell_type": "code",
   "execution_count": 14,
   "metadata": {
    "scrolled": true
   },
   "outputs": [],
   "source": [
    "big_mac = big_mac.merge(life_data,on=['name','date'])"
   ]
  },
  {
   "cell_type": "code",
   "execution_count": 15,
   "metadata": {
    "scrolled": true
   },
   "outputs": [],
   "source": [
    "big_mac = big_mac.reset_index()"
   ]
  },
  {
   "cell_type": "code",
   "execution_count": 16,
   "metadata": {},
   "outputs": [],
   "source": [
    "# obliczenie liczby big maców jakie może kupić jedna osoba\n",
    "big_mac['number_of_big_mac'] = big_mac.GDP_dollar/big_mac.dollar_price"
   ]
  },
  {
   "cell_type": "code",
   "execution_count": 17,
   "metadata": {},
   "outputs": [
    {
     "data": {
      "text/html": [
       "<div>\n",
       "<style scoped>\n",
       "    .dataframe tbody tr th:only-of-type {\n",
       "        vertical-align: middle;\n",
       "    }\n",
       "\n",
       "    .dataframe tbody tr th {\n",
       "        vertical-align: top;\n",
       "    }\n",
       "\n",
       "    .dataframe thead th {\n",
       "        text-align: right;\n",
       "    }\n",
       "</style>\n",
       "<table border=\"1\" class=\"dataframe\">\n",
       "  <thead>\n",
       "    <tr style=\"text-align: right;\">\n",
       "      <th></th>\n",
       "      <th>name</th>\n",
       "      <th>date</th>\n",
       "      <th>local_price</th>\n",
       "      <th>dollar_price</th>\n",
       "      <th>GDP_dollar</th>\n",
       "      <th>life_expectancy</th>\n",
       "      <th>number_of_big_mac</th>\n",
       "    </tr>\n",
       "  </thead>\n",
       "  <tbody>\n",
       "    <tr>\n",
       "      <td>102</td>\n",
       "      <td>New Zealand</td>\n",
       "      <td>2012</td>\n",
       "      <td>5.1</td>\n",
       "      <td>4.026068</td>\n",
       "      <td>32145.2330</td>\n",
       "      <td>81.156098</td>\n",
       "      <td>7984.275722</td>\n",
       "    </tr>\n",
       "    <tr>\n",
       "      <td>163</td>\n",
       "      <td>Switzerland</td>\n",
       "      <td>2013</td>\n",
       "      <td>6.5</td>\n",
       "      <td>6.921945</td>\n",
       "      <td>83072.8450</td>\n",
       "      <td>82.797561</td>\n",
       "      <td>12001.373160</td>\n",
       "    </tr>\n",
       "    <tr>\n",
       "      <td>108</td>\n",
       "      <td>Norway</td>\n",
       "      <td>2012</td>\n",
       "      <td>42.0</td>\n",
       "      <td>6.923286</td>\n",
       "      <td>84443.6340</td>\n",
       "      <td>81.451220</td>\n",
       "      <td>12197.046136</td>\n",
       "    </tr>\n",
       "    <tr>\n",
       "      <td>65</td>\n",
       "      <td>Hungary</td>\n",
       "      <td>2017</td>\n",
       "      <td>881.0</td>\n",
       "      <td>3.131879</td>\n",
       "      <td>12509.0910</td>\n",
       "      <td>76.063415</td>\n",
       "      <td>3994.116317</td>\n",
       "    </tr>\n",
       "    <tr>\n",
       "      <td>89</td>\n",
       "      <td>Japan</td>\n",
       "      <td>2017</td>\n",
       "      <td>380.0</td>\n",
       "      <td>3.309118</td>\n",
       "      <td>35701.4155</td>\n",
       "      <td>84.099756</td>\n",
       "      <td>10788.799963</td>\n",
       "    </tr>\n",
       "  </tbody>\n",
       "</table>\n",
       "</div>"
      ],
      "text/plain": [
       "            name  date  local_price  dollar_price  GDP_dollar  \\\n",
       "102  New Zealand  2012          5.1      4.026068  32145.2330   \n",
       "163  Switzerland  2013          6.5      6.921945  83072.8450   \n",
       "108       Norway  2012         42.0      6.923286  84443.6340   \n",
       "65       Hungary  2017        881.0      3.131879  12509.0910   \n",
       "89         Japan  2017        380.0      3.309118  35701.4155   \n",
       "\n",
       "     life_expectancy  number_of_big_mac  \n",
       "102        81.156098        7984.275722  \n",
       "163        82.797561       12001.373160  \n",
       "108        81.451220       12197.046136  \n",
       "65         76.063415        3994.116317  \n",
       "89         84.099756       10788.799963  "
      ]
     },
     "execution_count": 17,
     "metadata": {},
     "output_type": "execute_result"
    }
   ],
   "source": [
    "big_mac.sample(5)"
   ]
  },
  {
   "cell_type": "code",
   "execution_count": 18,
   "metadata": {},
   "outputs": [
    {
     "data": {
      "text/html": [
       "<div>\n",
       "<style scoped>\n",
       "    .dataframe tbody tr th:only-of-type {\n",
       "        vertical-align: middle;\n",
       "    }\n",
       "\n",
       "    .dataframe tbody tr th {\n",
       "        vertical-align: top;\n",
       "    }\n",
       "\n",
       "    .dataframe thead th {\n",
       "        text-align: right;\n",
       "    }\n",
       "</style>\n",
       "<table border=\"1\" class=\"dataframe\">\n",
       "  <thead>\n",
       "    <tr style=\"text-align: right;\">\n",
       "      <th></th>\n",
       "      <th>date</th>\n",
       "      <th>local_price</th>\n",
       "      <th>dollar_price</th>\n",
       "      <th>GDP_dollar</th>\n",
       "      <th>life_expectancy</th>\n",
       "      <th>number_of_big_mac</th>\n",
       "    </tr>\n",
       "  </thead>\n",
       "  <tbody>\n",
       "    <tr>\n",
       "      <td>date</td>\n",
       "      <td>1.000000</td>\n",
       "      <td>0.019044</td>\n",
       "      <td>-0.091303</td>\n",
       "      <td>0.004629</td>\n",
       "      <td>0.067050</td>\n",
       "      <td>0.048432</td>\n",
       "    </tr>\n",
       "    <tr>\n",
       "      <td>local_price</td>\n",
       "      <td>0.019044</td>\n",
       "      <td>1.000000</td>\n",
       "      <td>-0.193437</td>\n",
       "      <td>-0.219537</td>\n",
       "      <td>-0.220608</td>\n",
       "      <td>-0.250318</td>\n",
       "    </tr>\n",
       "    <tr>\n",
       "      <td>dollar_price</td>\n",
       "      <td>-0.091303</td>\n",
       "      <td>-0.193437</td>\n",
       "      <td>1.000000</td>\n",
       "      <td>0.803161</td>\n",
       "      <td>0.632126</td>\n",
       "      <td>0.595074</td>\n",
       "    </tr>\n",
       "    <tr>\n",
       "      <td>GDP_dollar</td>\n",
       "      <td>0.004629</td>\n",
       "      <td>-0.219537</td>\n",
       "      <td>0.803161</td>\n",
       "      <td>1.000000</td>\n",
       "      <td>0.730135</td>\n",
       "      <td>0.929259</td>\n",
       "    </tr>\n",
       "    <tr>\n",
       "      <td>life_expectancy</td>\n",
       "      <td>0.067050</td>\n",
       "      <td>-0.220608</td>\n",
       "      <td>0.632126</td>\n",
       "      <td>0.730135</td>\n",
       "      <td>1.000000</td>\n",
       "      <td>0.766016</td>\n",
       "    </tr>\n",
       "    <tr>\n",
       "      <td>number_of_big_mac</td>\n",
       "      <td>0.048432</td>\n",
       "      <td>-0.250318</td>\n",
       "      <td>0.595074</td>\n",
       "      <td>0.929259</td>\n",
       "      <td>0.766016</td>\n",
       "      <td>1.000000</td>\n",
       "    </tr>\n",
       "  </tbody>\n",
       "</table>\n",
       "</div>"
      ],
      "text/plain": [
       "                       date  local_price  dollar_price  GDP_dollar  \\\n",
       "date               1.000000     0.019044     -0.091303    0.004629   \n",
       "local_price        0.019044     1.000000     -0.193437   -0.219537   \n",
       "dollar_price      -0.091303    -0.193437      1.000000    0.803161   \n",
       "GDP_dollar         0.004629    -0.219537      0.803161    1.000000   \n",
       "life_expectancy    0.067050    -0.220608      0.632126    0.730135   \n",
       "number_of_big_mac  0.048432    -0.250318      0.595074    0.929259   \n",
       "\n",
       "                   life_expectancy  number_of_big_mac  \n",
       "date                      0.067050           0.048432  \n",
       "local_price              -0.220608          -0.250318  \n",
       "dollar_price              0.632126           0.595074  \n",
       "GDP_dollar                0.730135           0.929259  \n",
       "life_expectancy           1.000000           0.766016  \n",
       "number_of_big_mac         0.766016           1.000000  "
      ]
     },
     "execution_count": 18,
     "metadata": {},
     "output_type": "execute_result"
    }
   ],
   "source": [
    "# obliczenie korelacji pomiędzy poszczególnymi cechami\n",
    "big_mac.corr()"
   ]
  },
  {
   "cell_type": "markdown",
   "metadata": {},
   "source": [
    "Jak widać w powyższej tabeli korelacja pomiędzy liczbą Big Maców, które może kupić obywatel, a przewidywaną długością życia jest wysoka (0.766016),  jednak warto zwrócić uwage również na wysoką korelację pomiędzy przewidywaną długością życia, a PKB per capita (0.730135) oraz bardzo silną korelację pomiędzy PKB, a liczbą Big Maców, które może kupić obywatel (0.929259). Jak widać korelacja pomiędzy PKB a Big Macami jest niemal pewna.\n",
    "\n",
    "Wniosek:\n",
    "Długość życia jest silnie zależna od zamożności państwa. Big Mac index to wskaźnik pomiaru parytetu siły nabywczej. Posiadając podstwową wiedzę na temat zdrowego żywienia można stwierdzić, że spożywanie dużej ilości Big Maców zdecydowanie nie wpłya korzystnie na stan zdrowia oraz długość życia."
   ]
  },
  {
   "cell_type": "markdown",
   "metadata": {},
   "source": [
    "##### Źródła:\n",
    "\n",
    "Big Mac index:\n",
    "https://github.com/TheEconomist/big-mac-data/tree/master/output-data\n",
    "\n",
    "Przewidywana długość życia w chwili urodzenia:\n",
    "http://api.worldbank.org/v2/en/indicator/SP.DYN.LE00.IN?downloadformat=csv\n",
    "\n",
    "\n",
    "Autor:\n",
    "Marcin Mulawa"
   ]
  }
 ],
 "metadata": {
  "kernelspec": {
   "display_name": "Python 3",
   "language": "python",
   "name": "python3"
  },
  "language_info": {
   "codemirror_mode": {
    "name": "ipython",
    "version": 3
   },
   "file_extension": ".py",
   "mimetype": "text/x-python",
   "name": "python",
   "nbconvert_exporter": "python",
   "pygments_lexer": "ipython3",
   "version": "3.7.4"
  }
 },
 "nbformat": 4,
 "nbformat_minor": 2
}
